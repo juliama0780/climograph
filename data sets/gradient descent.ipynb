{
 "cells": [
  {
   "cell_type": "code",
   "execution_count": 22,
   "metadata": {
    "collapsed": true
   },
   "outputs": [],
   "source": [
    "from sklearn import datasets, model_selection\n",
    "import numpy as np\n",
    "from matplotlib import pyplot as plt\n",
    "%matplotlib inline"
   ]
  },
  {
   "cell_type": "code",
   "execution_count": 12,
   "metadata": {
    "collapsed": true
   },
   "outputs": [],
   "source": [
    "X, Y = datasets.load_iris(True)\n",
    "#sepal l, w, petal l, w"
   ]
  },
  {
   "cell_type": "code",
   "execution_count": 10,
   "metadata": {
    "collapsed": false
   },
   "outputs": [
    {
     "data": {
      "text/plain": [
       "array([0, 0, 0, 0, 0, 0, 0, 0, 0, 0, 0, 0, 0, 0, 0, 0, 0, 0, 0, 0, 0, 0, 0,\n",
       "       0, 0, 0, 0, 0, 0, 0, 0, 0, 0, 0, 0, 0, 0, 0, 0, 0, 0, 0, 0, 0, 0, 0,\n",
       "       0, 0, 0, 0, 1, 1, 1, 1, 1, 1, 1, 1, 1, 1, 1, 1, 1, 1, 1, 1, 1, 1, 1,\n",
       "       1, 1, 1, 1, 1, 1, 1, 1, 1, 1, 1, 1, 1, 1, 1, 1, 1, 1, 1, 1, 1, 1, 1,\n",
       "       1, 1, 1, 1, 1, 1, 1, 1, 2, 2, 2, 2, 2, 2, 2, 2, 2, 2, 2, 2, 2, 2, 2,\n",
       "       2, 2, 2, 2, 2, 2, 2, 2, 2, 2, 2, 2, 2, 2, 2, 2, 2, 2, 2, 2, 2, 2, 2,\n",
       "       2, 2, 2, 2, 2, 2, 2, 2, 2, 2, 2, 2])"
      ]
     },
     "execution_count": 10,
     "metadata": {},
     "output_type": "execute_result"
    }
   ],
   "source": [
    "Y"
   ]
  },
  {
   "cell_type": "code",
   "execution_count": 20,
   "metadata": {
    "collapsed": false
   },
   "outputs": [],
   "source": [
    "X1 = X[:,0]\n",
    "Y1 = X[:,2]"
   ]
  },
  {
   "cell_type": "code",
   "execution_count": 21,
   "metadata": {
    "collapsed": false
   },
   "outputs": [
    {
     "data": {
      "text/plain": [
       "<matplotlib.collections.PathCollection at 0x152c54281d0>"
      ]
     },
     "execution_count": 21,
     "metadata": {},
     "output_type": "execute_result"
    },
    {
     "data": {
      "image/png": "[encoded data removed]",
      "text/plain": [
       "<matplotlib.figure.Figure at 0x152c53d8ac8>"
      ]
     },
     "metadata": {},
     "output_type": "display_data"
    }
   ],
   "source": [
    "plt.scatter(X1, Y1)"
   ]
  },
  {
   "cell_type": "code",
   "execution_count": 24,
   "metadata": {
    "collapsed": false
   },
   "outputs": [],
   "source": [
    "x_train, x_test, y_train, y_test = model_selection.train_test_split( X1, Y1, test_size=0.1)"
   ]
  },
  {
   "cell_type": "code",
   "execution_count": 31,
   "metadata": {
    "collapsed": true
   },
   "outputs": [],
   "source": [
    "m=1\n",
    "b=0\n",
    "alpha=0.0001\n",
    "T=100\n",
    "n=len(x_train)"
   ]
  },
  {
   "cell_type": "code",
   "execution_count": 32,
   "metadata": {
    "collapsed": false
   },
   "outputs": [
    {
     "name": "stdout",
     "output_type": "stream",
     "text": [
      "0 : 1\n",
      "1 : 0.689424\n",
      "2 : 0.67961529424\n",
      "3 : 0.679897365006\n",
      "4 : 0.680517662792\n",
      "5 : 0.681148977914\n",
      "6 : 0.681780332268\n",
      "7 : 0.682411357705\n",
      "8 : 0.683042042053\n",
      "9 : 0.68367238508\n",
      "10 : 0.684302386957\n",
      "11 : 0.68493204787\n",
      "12 : 0.685561368003\n",
      "13 : 0.686190347539\n",
      "14 : 0.686818986663\n",
      "15 : 0.68744728556\n",
      "16 : 0.688075244414\n",
      "17 : 0.688702863408\n",
      "18 : 0.689330142727\n",
      "19 : 0.689957082554\n",
      "20 : 0.690583683074\n",
      "21 : 0.691209944469\n",
      "22 : 0.691835866924\n",
      "23 : 0.692461450621\n",
      "24 : 0.693086695745\n",
      "25 : 0.693711602478\n",
      "26 : 0.694336171003\n",
      "27 : 0.694960401504\n",
      "28 : 0.695584294164\n",
      "29 : 0.696207849165\n",
      "30 : 0.69683106669\n",
      "31 : 0.697453946921\n",
      "32 : 0.698076490042\n",
      "33 : 0.698698696235\n",
      "34 : 0.699320565682\n",
      "35 : 0.699942098565\n",
      "36 : 0.700563295066\n",
      "37 : 0.701184155368\n",
      "38 : 0.701804679653\n",
      "39 : 0.702424868102\n",
      "40 : 0.703044720897\n",
      "41 : 0.70366423822\n",
      "42 : 0.704283420252\n",
      "43 : 0.704902267175\n",
      "44 : 0.70552077917\n",
      "45 : 0.706138956419\n",
      "46 : 0.706756799102\n",
      "47 : 0.707374307401\n",
      "48 : 0.707991481496\n",
      "49 : 0.708608321569\n",
      "50 : 0.7092248278\n",
      "51 : 0.709841000371\n",
      "52 : 0.71045683946\n",
      "53 : 0.71107234525\n",
      "54 : 0.71168751792\n",
      "55 : 0.712302357651\n",
      "56 : 0.712916864623\n",
      "57 : 0.713531039016\n",
      "58 : 0.71414488101\n",
      "59 : 0.714758390785\n",
      "60 : 0.71537156852\n",
      "61 : 0.715984414396\n",
      "62 : 0.716596928592\n",
      "63 : 0.717209111287\n",
      "64 : 0.717820962661\n",
      "65 : 0.718432482894\n",
      "66 : 0.719043672164\n",
      "67 : 0.71965453065\n",
      "68 : 0.720265058532\n",
      "69 : 0.720875255989\n",
      "70 : 0.721485123199\n",
      "71 : 0.722094660341\n",
      "72 : 0.722703867594\n",
      "73 : 0.723312745136\n",
      "74 : 0.723921293146\n",
      "75 : 0.724529511802\n",
      "76 : 0.725137401282\n",
      "77 : 0.725744961764\n",
      "78 : 0.726352193428\n",
      "79 : 0.726959096449\n",
      "80 : 0.727565671007\n",
      "81 : 0.72817191728\n",
      "82 : 0.728777835443\n",
      "83 : 0.729383425677\n",
      "84 : 0.729988688157\n",
      "85 : 0.730593623061\n",
      "86 : 0.731198230567\n",
      "87 : 0.731802510852\n",
      "88 : 0.732406464092\n",
      "89 : 0.733010090465\n",
      "90 : 0.733613390148\n",
      "91 : 0.734216363318\n",
      "92 : 0.734819010151\n",
      "93 : 0.735421330823\n",
      "94 : 0.736023325512\n",
      "95 : 0.736624994394\n",
      "96 : 0.737226337645\n",
      "97 : 0.737827355441\n",
      "98 : 0.738428047959\n",
      "99 : 0.739028415374\n"
     ]
    }
   ],
   "source": [
    "for t in range(T):\n",
    "    grad_m=[]\n",
    "    grad_b=[]\n",
    "    for i in range(n):\n",
    "        beta = 2*(y_train[i] - m*x_train[i] - b) \n",
    "        grad_b.append(beta)\n",
    "        grad_m.append(beta * x_train[i])\n",
    "    grad_m = sum(grad_m)\n",
    "    grad_b = sum(grad_b)\n",
    "    print(t, \":\" , m)\n",
    "    \n",
    "    m = m + alpha * grad_m\n",
    "    b = b + alpha * grad_b"
   ]
  },
  {
   "cell_type": "code",
   "execution_count": 33,
   "metadata": {
    "collapsed": true
   },
   "outputs": [],
   "source": [
    "xx = np.linspace(x_train.min(), x_train.max(), 100) \n",
    "yy = m * xx + b"
   ]
  },
  {
   "cell_type": "code",
   "execution_count": 35,
   "metadata": {
    "collapsed": false
   },
   "outputs": [
    {
     "data": {
      "text/plain": [
       "[<matplotlib.lines.Line2D at 0x152c55f58d0>]"
      ]
     },
     "execution_count": 35,
     "metadata": {},
     "output_type": "execute_result"
    },
    {
     "data": {
      "image/png": "[encoded data removed]",
      "text/plain": [
       "<matplotlib.figure.Figure at 0x152c55f56d8>"
      ]
     },
     "metadata": {},
     "output_type": "display_data"
    }
   ],
   "source": [
    "plt.scatter(x_train, y_train)\n",
    "plt.plot(xx,yy)"
   ]
  },
  {
   "cell_type": "code",
   "execution_count": null,
   "metadata": {
    "collapsed": true
   },
   "outputs": [],
   "source": []
  }
 ],
 "metadata": {
  "anaconda-cloud": {},
  "kernelspec": {
   "display_name": "Python [conda root]",
   "language": "python",
   "name": "conda-root-py"
  },
  "language_info": {
   "codemirror_mode": {
    "name": "ipython",
    "version": 3
   },
   "file_extension": ".py",
   "mimetype": "text/x-python",
   "name": "python",
   "nbconvert_exporter": "python",
   "pygments_lexer": "ipython3",
   "version": "3.5.2"
  }
 },
 "nbformat": 4,
 "nbformat_minor": 2
}
