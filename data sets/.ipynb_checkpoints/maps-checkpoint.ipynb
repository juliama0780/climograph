{
 "cells": [
  {
   "cell_type": "code",
   "execution_count": 6,
   "metadata": {
    "collapsed": true
   },
   "outputs": [],
   "source": [
    "import random\n",
    "import pandas as pd"
   ]
  },
  {
   "cell_type": "code",
   "execution_count": 2,
   "metadata": {
    "collapsed": true
   },
   "outputs": [],
   "source": [
    "north_america = [\"Alaska\", \"Canada\", \"United States\", \"Greenland\", \"Mexico\", \"Guatemala\", \"Belize\", \n",
    "                 \"Honduras\", \"El Salvador\", \"Nicaragua\", \"Costa Rica\", \"Panama\", \"Cuba\", \"Bahamas\", \n",
    "                 \"Haiti\", \"Bermuda Island\", \"Cayman Island\", \"Jamaica\", \"Puerto Rico\", \"Virgin Islands\", \n",
    "                 \"Netherlands Antilles\", \"Aruba\", \"St. Kitts and Nevis\", \"Antigua and Barbuda\", \"Dominica\", \n",
    "                 \"St. Lucia\", \"Barbados\", \"St. Vincent and the Grenadines\", \"Grenada\", \"Trinidad and Tobago\"]"
   ]
  },
  {
   "cell_type": "code",
   "execution_count": 38,
   "metadata": {
    "collapsed": true
   },
   "outputs": [],
   "source": [
    "north_america_1 = [\"Jamaica\", \"Bermuda Island\", 'Netherlands Antilles', \"Puerto Rico\", \"Antigua and Barbuda\", \"Panama\", \"St. Kitts and Nevis\"]"
   ]
  },
  {
   "cell_type": "code",
   "execution_count": null,
   "metadata": {
    "collapsed": true
   },
   "outputs": [],
   "source": [
    "north_america_2 = [\"Virgin Islands\", \"Netherlands Antilles\", \"Aruba\", \"St. Lucia\", \"Antiga and Barbuda\"]"
   ]
  },
  {
   "cell_type": "code",
   "execution_count": null,
   "metadata": {
    "collapsed": true
   },
   "outputs": [],
   "source": []
  },
  {
   "cell_type": "code",
   "execution_count": 39,
   "metadata": {
    "collapsed": false
   },
   "outputs": [
    {
     "data": {
      "text/plain": [
       "['St. Vincent and the Grenadines',\n",
       " 'Netherlands Antilles',\n",
       " 'Alaska',\n",
       " 'Mexico',\n",
       " 'Bermuda Island',\n",
       " 'Honduras',\n",
       " 'Jamaica',\n",
       " 'Virgin Islands',\n",
       " 'St. Kitts and Nevis',\n",
       " 'Cayman Island',\n",
       " 'Bahamas',\n",
       " 'Nicaragua',\n",
       " 'Cuba',\n",
       " 'Panama',\n",
       " 'Puerto Rico',\n",
       " 'Haiti',\n",
       " 'United States',\n",
       " 'Belize',\n",
       " 'El Salvador',\n",
       " 'Aruba',\n",
       " 'Greenland',\n",
       " 'Canada',\n",
       " 'Grenada',\n",
       " 'Guatemala',\n",
       " 'Trinidad and Tobago',\n",
       " 'Barbados',\n",
       " 'Costa Rica',\n",
       " 'St. Lucia',\n",
       " 'Dominica',\n",
       " 'Antigua and Barbuda']"
      ]
     },
     "execution_count": 39,
     "metadata": {},
     "output_type": "execute_result"
    }
   ],
   "source": [
    "random.sample(north_america, k=30)"
   ]
  },
  {
   "cell_type": "code",
   "execution_count": null,
   "metadata": {
    "collapsed": true
   },
   "outputs": [],
   "source": []
  },
  {
   "cell_type": "code",
   "execution_count": null,
   "metadata": {
    "collapsed": true
   },
   "outputs": [],
   "source": []
  }
 ],
 "metadata": {
  "anaconda-cloud": {},
  "kernelspec": {
   "display_name": "Python [conda root]",
   "language": "python",
   "name": "conda-root-py"
  },
  "language_info": {
   "codemirror_mode": {
    "name": "ipython",
    "version": 3
   },
   "file_extension": ".py",
   "mimetype": "text/x-python",
   "name": "python",
   "nbconvert_exporter": "python",
   "pygments_lexer": "ipython3",
   "version": "3.5.2"
  }
 },
 "nbformat": 4,
 "nbformat_minor": 2
}
