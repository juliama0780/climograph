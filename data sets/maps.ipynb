{
 "cells": [
  {
   "cell_type": "code",
   "execution_count": 11,
   "metadata": {
    "collapsed": true
   },
   "outputs": [],
   "source": [
    "import random\n",
    "import pandas as pd\n",
    "import numpy as np"
   ]
  },
  {
   "cell_type": "code",
   "execution_count": 2,
   "metadata": {
    "collapsed": false
   },
   "outputs": [
    {
     "data": {
      "text/plain": [
       "30"
      ]
     },
     "execution_count": 2,
     "metadata": {},
     "output_type": "execute_result"
    }
   ],
   "source": [
    "north_america = [\"Alaska\", \"Canada\", \"United States\", \"Greenland\", \"Mexico\", \"Guatemala\", \"Belize\", \n",
    "                 \"Honduras\", \"El Salvador\", \"Nicaragua\", \"Costa Rica\", \"Panama\", \"Cuba\", \"Bahamas\", \n",
    "                 \"Haiti\", \"Bermuda Island\", \"Cayman Island\", \"Jamaica\", \"Puerto Rico\", \"Virgin Islands\", \n",
    "                 \"Netherlands Antilles\", \"Aruba\", \"St. Kitts and Nevis\", \"Antigua and Barbuda\", \"Dominica\", \n",
    "                 \"St. Lucia\", \"Barbados\", \"St. Vincent and the Grenadines\", \"Grenada\", \"Trinidad and Tobago\"]\n",
    "len(north_america)"
   ]
  },
  {
   "cell_type": "code",
   "execution_count": 3,
   "metadata": {
    "collapsed": true
   },
   "outputs": [],
   "source": [
    "north_america_1 = [\"Jamaica\", \"Bermuda Island\", 'Netherlands Antilles', \"Puerto Rico\", \"Antigua and Barbuda\", \"Panama\", \"St. Kitts and Nevis\"]"
   ]
  },
  {
   "cell_type": "code",
   "execution_count": 4,
   "metadata": {
    "collapsed": true
   },
   "outputs": [],
   "source": [
    "north_america_2 = [\"Virgin Islands\", \"Netherlands Antilles\", \"Aruba\", \"St. Lucia\", \"Antiga and Barbuda\"]"
   ]
  },
  {
   "cell_type": "code",
   "execution_count": 5,
   "metadata": {
    "collapsed": true
   },
   "outputs": [],
   "source": [
    "south_america = [\"Venezuela\", \"Colombia\", \"Ecuador\", \"Guyana\", \"Suriname\", \"French Guiana\", \"Brazil\"\n",
    "                , \"Bolivia\", \"Paraguay\", \"Peru\", \"Uruguay\", \"Chile\", \"Argentina\", \"Galapagos Island\", \n",
    "                \"Falkland Island\"]"
   ]
  },
  {
   "cell_type": "code",
   "execution_count": 6,
   "metadata": {
    "collapsed": false
   },
   "outputs": [],
   "source": [
    "south_america_1 = [\"Peru\", \"Ecuador\", \"Venezula\", \"Argentina\"]"
   ]
  },
  {
   "cell_type": "code",
   "execution_count": 7,
   "metadata": {
    "collapsed": true
   },
   "outputs": [],
   "source": [
    "europe = [\"Iceland\", \"UK\", \"Ireland\", \"Portugal\", \"Gilbraltar (UK)\", \"Spain\", \"Andorra\", \"France\", \n",
    "          \"Belgium\", \"Luxembourg\", \"Germany\", \"Netherlands\", \"Switzerland\", \"Italy\", \"Monaco\", \n",
    "          \"San Marino\", \"Vatican City\", \"Austria\", \"Liechtenstein\", \"Slovenia\", \"Czech Republic\", \n",
    "          \"Croatia\", \"Bosnia and Herzegovina\", \"Denmark\", \"Poland\", \"Slovakia\", \"Hungary\", \"Romania\"\n",
    "          , \"Bulgaria\", \"Macedonia\", \"Serbia\", \"Kosovo\", \"Montenegro\", \"Albania\", \"Greece\", \"Malta\", \n",
    "          \"Turkey\", \"Ukraine\", \"Belarus\", \"Moldova\", \"Russia (there's 2)\", \"Lithuania\", \"Latvia\", \n",
    "          \"Estonia\", \"Georgia\", \"Kazakhstan\", \"Azerbaijan\", \"Cyprus\", \"Finland\", \"Sweden\", \"Norway\"]"
   ]
  },
  {
   "cell_type": "code",
   "execution_count": 8,
   "metadata": {
    "collapsed": true
   },
   "outputs": [],
   "source": [
    "africa = [\"Cabo Verde\", \"Morocco\", \"Western Sahara (Morocco)\", \"Algeria\", \"Tunisia\", \"Mali\", \"Niger\", \"Nigeria\", \"Mauritania\", \n",
    "          \"Senegal\", \"Gambia\", \"Guinea-Bissau\", \"Guinea\", \"Sierra Leone\", \"Liberia\", \"Ivory Coast\", \n",
    "          \"Burkina Faso\", \"Ghana\", \"Togo\", \"Benin\", \"Libya\", \"Egypt\", \"Chad\", \"Sudan\", \"South Sudan\",\n",
    "          \"Central Africa Republic\", \"Cameroon\", \"Ethiopia\", \"Eritrea\", \"Djibouti\", \"Somalia\", \"Kenya\",\n",
    "          \"Ugnda\", \"Tanzania\", \"Rwanda\", \"Burundi\", \"Dem. Rep. of the Congo\", \"Congo\", \"Gabon\", \n",
    "          \"Equatorial Guinea\", \"Sao Tome and Principe\", \"Cabinda (Angola)\", \"Angola\", \"Zambia\", \n",
    "          \"Malawi\", \"Mozambique\", \"Zimbabwe\", \"Namibia\", \"Botswana\", \"South Africa\", \"Swaziland\",\n",
    "          \"Lesotho\", \"Madagascar\", \"Mauritius\", \"Seychelles\", \"Comoros\"]"
   ]
  },
  {
   "cell_type": "code",
   "execution_count": 14,
   "metadata": {
    "collapsed": true
   },
   "outputs": [],
   "source": [
    "africa_2 = [\"Gabon\", \"Algeria\", \"Djibouti\", \"Ghana\", \"Liberia\", \"Kenya\", \"Cabo Verde\", \"Lesotho\", \n",
    "            \"Mozambique\", \"Mali\", \"Sierra Leone\", \"Burundi\", \"Cote D'Ivoire\", 'Zimbabwe', 'Uganda']"
   ]
  },
  {
   "cell_type": "code",
   "execution_count": 9,
   "metadata": {
    "collapsed": false
   },
   "outputs": [
    {
     "data": {
      "text/plain": [
       "['Eritrea']"
      ]
     },
     "execution_count": 9,
     "metadata": {},
     "output_type": "execute_result"
    }
   ],
   "source": [
    "random.sample(africa, k=1)"
   ]
  },
  {
   "cell_type": "code",
   "execution_count": 12,
   "metadata": {
    "collapsed": false
   },
   "outputs": [
    {
     "data": {
      "text/plain": [
       "array(['Gabon', 'Algeria', 'Benin', 'Nigeria', 'Djibouti', 'South Africa',\n",
       "       'South Sudan', 'Ghana', 'Liberia', 'Madagascar', 'Congo', 'Kenya',\n",
       "       'Rwanda', 'Cabo Verde', 'Lesotho', 'Swaziland', 'Mozambique',\n",
       "       'Morocco', 'Mali', 'Niger', 'Togo', 'Sierra Leone', 'Burundi',\n",
       "       'Ivory Coast', 'Zimbabwe', 'Ugnda', 'Dem. Rep. of the Congo',\n",
       "       'Western Sahara (Morocco)', 'Tunisia', 'Equatorial Guinea',\n",
       "       'Cabinda (Angola)', 'Botswana', 'Chad', 'Guinea',\n",
       "       'Sao Tome and Principe', 'Malawi', 'Angola', 'Mauritania',\n",
       "       'Tanzania', 'Ethiopia', 'Gambia', 'Somalia', 'Sudan',\n",
       "       'Guinea-Bissau', 'Seychelles', 'Libya', 'Comoros', 'Zambia',\n",
       "       'Egypt', 'Namibia', 'Eritrea', 'Burkina Faso', 'Mauritius',\n",
       "       'Central Africa Republic', 'Cameroon', 'Senegal'], \n",
       "      dtype='<U24')"
      ]
     },
     "execution_count": 12,
     "metadata": {},
     "output_type": "execute_result"
    }
   ],
   "source": [
    "np.random.permutation(africa)"
   ]
  }
 ],
 "metadata": {
  "anaconda-cloud": {},
  "kernelspec": {
   "display_name": "Python [conda root]",
   "language": "python",
   "name": "conda-root-py"
  },
  "language_info": {
   "codemirror_mode": {
    "name": "ipython",
    "version": 3
   },
   "file_extension": ".py",
   "mimetype": "text/x-python",
   "name": "python",
   "nbconvert_exporter": "python",
   "pygments_lexer": "ipython3",
   "version": "3.5.2"
  }
 },
 "nbformat": 4,
 "nbformat_minor": 2
}
